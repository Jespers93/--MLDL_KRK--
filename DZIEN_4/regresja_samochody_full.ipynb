{
 "cells":[
  {
   "cell_type":"code",
   "source":[
    "import matplotlib.pyplot as plt\n",
    "import numpy as np\n",
    "import pandas as pd\n",
    "import seaborn as sns\n",
    "np.set_printoptions(precision=3,suppress=True)\n",
    "\n",
    "import tensorflow as tf\n",
    "\n",
    "from tensorflow import keras\n",
    "from keras import layers"
   ],
   "execution_count":1,
   "outputs":[
    
   ],
   "metadata":{
    "datalore":{
     "node_id":"bVT817JL4H5pdnFrnTMzKL",
     "type":"CODE",
     "hide_input_from_viewers":true,
     "hide_output_from_viewers":true
    }
   }
  },
  {
   "cell_type":"code",
   "source":[
    "url = \"http:\/\/archive.ics.uci.edu\/ml\/machine-learning-databases\/auto-mpg\/auto-mpg.data\"\n",
    "column_names = ['MPG','Cylinders','Displacement','Horsepower','Weight','Acceleration','Model Year','Origin']"
   ],
   "execution_count":2,
   "outputs":[
    
   ],
   "metadata":{
    "datalore":{
     "node_id":"76qoAs6yYteZkZVQ0JsonP",
     "type":"CODE",
     "hide_input_from_viewers":true,
     "hide_output_from_viewers":true
    }
   }
  },
  {
   "cell_type":"code",
   "source":[
    "raw_dataset =pd.read_csv(url,names=column_names,na_values='?',comment='\\t', sep=' ',skipinitialspace=True)"
   ],
   "execution_count":3,
   "outputs":[
    
   ],
   "metadata":{
    "datalore":{
     "node_id":"zZjbBJvXML8x3JZSo8Wl1y",
     "type":"CODE",
     "hide_input_from_viewers":true,
     "hide_output_from_viewers":true
    }
   }
  },
  {
   "cell_type":"code",
   "source":[
    "dataset = raw_dataset.copy()\n",
    "dataset.tail()"
   ],
   "execution_count":4,
   "outputs":[
    {
     "data":{
      "text\/html":[
       "<div>\n",
       "<style scoped>\n",
       "    .dataframe tbody tr th:only-of-type {\n",
       "        vertical-align: middle;\n",
       "    }\n",
       "\n",
       "    .dataframe tbody tr th {\n",
       "        vertical-align: top;\n",
       "    }\n",
       "\n",
       "    .dataframe thead th {\n",
       "        text-align: right;\n",
       "    }\n",
       "<\/style>\n",
       "<table border=\"1\" class=\"dataframe\">\n",
       "  <thead>\n",
       "    <tr style=\"text-align: right;\">\n",
       "      <th><\/th>\n",
       "      <th>MPG<\/th>\n",
       "      <th>Cylinders<\/th>\n",
       "      <th>Displacement<\/th>\n",
       "      <th>Horsepower<\/th>\n",
       "      <th>Weight<\/th>\n",
       "      <th>Acceleration<\/th>\n",
       "      <th>Model Year<\/th>\n",
       "      <th>Origin<\/th>\n",
       "    <\/tr>\n",
       "  <\/thead>\n",
       "  <tbody>\n",
       "    <tr>\n",
       "      <th>393<\/th>\n",
       "      <td>27.0<\/td>\n",
       "      <td>4<\/td>\n",
       "      <td>140.0<\/td>\n",
       "      <td>86.0<\/td>\n",
       "      <td>2790.0<\/td>\n",
       "      <td>15.6<\/td>\n",
       "      <td>82<\/td>\n",
       "      <td>1<\/td>\n",
       "    <\/tr>\n",
       "    <tr>\n",
       "      <th>394<\/th>\n",
       "      <td>44.0<\/td>\n",
       "      <td>4<\/td>\n",
       "      <td>97.0<\/td>\n",
       "      <td>52.0<\/td>\n",
       "      <td>2130.0<\/td>\n",
       "      <td>24.6<\/td>\n",
       "      <td>82<\/td>\n",
       "      <td>2<\/td>\n",
       "    <\/tr>\n",
       "    <tr>\n",
       "      <th>395<\/th>\n",
       "      <td>32.0<\/td>\n",
       "      <td>4<\/td>\n",
       "      <td>135.0<\/td>\n",
       "      <td>84.0<\/td>\n",
       "      <td>2295.0<\/td>\n",
       "      <td>11.6<\/td>\n",
       "      <td>82<\/td>\n",
       "      <td>1<\/td>\n",
       "    <\/tr>\n",
       "    <tr>\n",
       "      <th>396<\/th>\n",
       "      <td>28.0<\/td>\n",
       "      <td>4<\/td>\n",
       "      <td>120.0<\/td>\n",
       "      <td>79.0<\/td>\n",
       "      <td>2625.0<\/td>\n",
       "      <td>18.6<\/td>\n",
       "      <td>82<\/td>\n",
       "      <td>1<\/td>\n",
       "    <\/tr>\n",
       "    <tr>\n",
       "      <th>397<\/th>\n",
       "      <td>31.0<\/td>\n",
       "      <td>4<\/td>\n",
       "      <td>119.0<\/td>\n",
       "      <td>82.0<\/td>\n",
       "      <td>2720.0<\/td>\n",
       "      <td>19.4<\/td>\n",
       "      <td>82<\/td>\n",
       "      <td>1<\/td>\n",
       "    <\/tr>\n",
       "  <\/tbody>\n",
       "<\/table>\n",
       "<\/div>"
      ]
     },
     "metadata":{
      
     },
     "output_type":"display_data"
    }
   ],
   "metadata":{
    "datalore":{
     "node_id":"negnrcseXcnojB4dChJuws",
     "type":"CODE",
     "hide_input_from_viewers":true,
     "hide_output_from_viewers":true
    }
   }
  },
  {
   "cell_type":"code",
   "source":[
    "dataset.isna().sum()"
   ],
   "execution_count":5,
   "outputs":[
    {
     "data":{
      "text\/html":[
       "<pre>MPG             0\n",
       "Cylinders       0\n",
       "Displacement    0\n",
       "Horsepower      6\n",
       "Weight          0\n",
       "Acceleration    0\n",
       "Model Year      0\n",
       "Origin          0\n",
       "dtype: int64<\/pre>"
      ]
     },
     "metadata":{
      
     },
     "output_type":"display_data"
    }
   ],
   "metadata":{
    "datalore":{
     "node_id":"gLuHuAE9MusocGqKaxx8JE",
     "type":"CODE",
     "hide_input_from_viewers":true,
     "hide_output_from_viewers":true
    }
   }
  },
  {
   "cell_type":"code",
   "source":[
    "dataset = dataset.dropna()"
   ],
   "execution_count":6,
   "outputs":[
    
   ],
   "metadata":{
    "datalore":{
     "node_id":"hOKosVuX5XhTyiz5LTCQmY",
     "type":"CODE",
     "hide_input_from_viewers":true,
     "hide_output_from_viewers":true
    }
   }
  },
  {
   "cell_type":"code",
   "source":[
    "dataset.isna().sum()"
   ],
   "execution_count":7,
   "outputs":[
    {
     "data":{
      "text\/html":[
       "<pre>MPG             0\n",
       "Cylinders       0\n",
       "Displacement    0\n",
       "Horsepower      0\n",
       "Weight          0\n",
       "Acceleration    0\n",
       "Model Year      0\n",
       "Origin          0\n",
       "dtype: int64<\/pre>"
      ]
     },
     "metadata":{
      
     },
     "output_type":"display_data"
    }
   ],
   "metadata":{
    "datalore":{
     "node_id":"ZtK3jvx5kjLK6wpKhhPBvd",
     "type":"CODE",
     "hide_input_from_viewers":true,
     "hide_output_from_viewers":true
    }
   }
  },
  {
   "cell_type":"code",
   "source":[
    "dataset['Origin'] = dataset['Origin'].map({1:'USA',2:'Europe',3:'Japan'})"
   ],
   "execution_count":8,
   "outputs":[
    
   ],
   "metadata":{
    "datalore":{
     "node_id":"zjwYxb4VYjSZ5LldeAzBaM",
     "type":"CODE",
     "hide_input_from_viewers":true,
     "hide_output_from_viewers":true
    }
   }
  },
  {
   "cell_type":"code",
   "source":[
    "dataset = pd.get_dummies(dataset,columns=['Origin'],prefix='',prefix_sep='')\n",
    "dataset.tail()"
   ],
   "execution_count":10,
   "outputs":[
    {
     "data":{
      "text\/html":[
       "<div>\n",
       "<style scoped>\n",
       "    .dataframe tbody tr th:only-of-type {\n",
       "        vertical-align: middle;\n",
       "    }\n",
       "\n",
       "    .dataframe tbody tr th {\n",
       "        vertical-align: top;\n",
       "    }\n",
       "\n",
       "    .dataframe thead th {\n",
       "        text-align: right;\n",
       "    }\n",
       "<\/style>\n",
       "<table border=\"1\" class=\"dataframe\">\n",
       "  <thead>\n",
       "    <tr style=\"text-align: right;\">\n",
       "      <th><\/th>\n",
       "      <th>MPG<\/th>\n",
       "      <th>Cylinders<\/th>\n",
       "      <th>Displacement<\/th>\n",
       "      <th>Horsepower<\/th>\n",
       "      <th>Weight<\/th>\n",
       "      <th>Acceleration<\/th>\n",
       "      <th>Model Year<\/th>\n",
       "      <th>Europe<\/th>\n",
       "      <th>Japan<\/th>\n",
       "      <th>USA<\/th>\n",
       "    <\/tr>\n",
       "  <\/thead>\n",
       "  <tbody>\n",
       "    <tr>\n",
       "      <th>393<\/th>\n",
       "      <td>27.0<\/td>\n",
       "      <td>4<\/td>\n",
       "      <td>140.0<\/td>\n",
       "      <td>86.0<\/td>\n",
       "      <td>2790.0<\/td>\n",
       "      <td>15.6<\/td>\n",
       "      <td>82<\/td>\n",
       "      <td>0<\/td>\n",
       "      <td>0<\/td>\n",
       "      <td>1<\/td>\n",
       "    <\/tr>\n",
       "    <tr>\n",
       "      <th>394<\/th>\n",
       "      <td>44.0<\/td>\n",
       "      <td>4<\/td>\n",
       "      <td>97.0<\/td>\n",
       "      <td>52.0<\/td>\n",
       "      <td>2130.0<\/td>\n",
       "      <td>24.6<\/td>\n",
       "      <td>82<\/td>\n",
       "      <td>1<\/td>\n",
       "      <td>0<\/td>\n",
       "      <td>0<\/td>\n",
       "    <\/tr>\n",
       "    <tr>\n",
       "      <th>395<\/th>\n",
       "      <td>32.0<\/td>\n",
       "      <td>4<\/td>\n",
       "      <td>135.0<\/td>\n",
       "      <td>84.0<\/td>\n",
       "      <td>2295.0<\/td>\n",
       "      <td>11.6<\/td>\n",
       "      <td>82<\/td>\n",
       "      <td>0<\/td>\n",
       "      <td>0<\/td>\n",
       "      <td>1<\/td>\n",
       "    <\/tr>\n",
       "    <tr>\n",
       "      <th>396<\/th>\n",
       "      <td>28.0<\/td>\n",
       "      <td>4<\/td>\n",
       "      <td>120.0<\/td>\n",
       "      <td>79.0<\/td>\n",
       "      <td>2625.0<\/td>\n",
       "      <td>18.6<\/td>\n",
       "      <td>82<\/td>\n",
       "      <td>0<\/td>\n",
       "      <td>0<\/td>\n",
       "      <td>1<\/td>\n",
       "    <\/tr>\n",
       "    <tr>\n",
       "      <th>397<\/th>\n",
       "      <td>31.0<\/td>\n",
       "      <td>4<\/td>\n",
       "      <td>119.0<\/td>\n",
       "      <td>82.0<\/td>\n",
       "      <td>2720.0<\/td>\n",
       "      <td>19.4<\/td>\n",
       "      <td>82<\/td>\n",
       "      <td>0<\/td>\n",
       "      <td>0<\/td>\n",
       "      <td>1<\/td>\n",
       "    <\/tr>\n",
       "  <\/tbody>\n",
       "<\/table>\n",
       "<\/div>"
      ]
     },
     "metadata":{
      
     },
     "output_type":"display_data"
    }
   ],
   "metadata":{
    "datalore":{
     "node_id":"cPqT7NafLzR9hMeBXkTxPl",
     "type":"CODE",
     "hide_input_from_viewers":true,
     "hide_output_from_viewers":true
    }
   }
  },
  {
   "cell_type":"code",
   "source":[
    "train_dataset = dataset.sample(frac=0.8,random_state=0)\n",
    "test_dataset = dataset.drop(train_dataset.index)"
   ],
   "execution_count":12,
   "outputs":[
    
   ],
   "metadata":{
    "datalore":{
     "node_id":"yu9vYlU76h02SxKEB06Kdk",
     "type":"CODE",
     "hide_input_from_viewers":true,
     "hide_output_from_viewers":true
    }
   }
  },
  {
   "cell_type":"code",
   "source":[
    "sns.pairplot(train_dataset[['MPG','Cylinders','Displacement','Weight']],diag_kind='kde')"
   ],
   "execution_count":13,
   "outputs":[
    {
     "data":{
      "text\/plain":[
       "<seaborn.axisgrid.PairGrid at 0x7fcf2e08b5b0>"
      ]
     },
     "metadata":{
      
     },
     "output_type":"display_data"
    },
    {
     "data":{
      "image\/png":"[encoded data removed]"
     },
     "metadata":{
      "image\/png":{
       
      }
     },
     "output_type":"display_data"
    }
   ],
   "metadata":{
    "datalore":{
     "node_id":"RM28iIvugLB6Nr3D5F9djv",
     "type":"CODE",
     "hide_input_from_viewers":true,
     "hide_output_from_viewers":true
    }
   }
  },
  {
   "cell_type":"code",
   "source":[
    "train_dataset.describe().transpose()"
   ],
   "execution_count":14,
   "outputs":[
    {
     "data":{
      "text\/html":[
       "<div>\n",
       "<style scoped>\n",
       "    .dataframe tbody tr th:only-of-type {\n",
       "        vertical-align: middle;\n",
       "    }\n",
       "\n",
       "    .dataframe tbody tr th {\n",
       "        vertical-align: top;\n",
       "    }\n",
       "\n",
       "    .dataframe thead th {\n",
       "        text-align: right;\n",
       "    }\n",
       "<\/style>\n",
       "<table border=\"1\" class=\"dataframe\">\n",
       "  <thead>\n",
       "    <tr style=\"text-align: right;\">\n",
       "      <th><\/th>\n",
       "      <th>count<\/th>\n",
       "      <th>mean<\/th>\n",
       "      <th>std<\/th>\n",
       "      <th>min<\/th>\n",
       "      <th>25%<\/th>\n",
       "      <th>50%<\/th>\n",
       "      <th>75%<\/th>\n",
       "      <th>max<\/th>\n",
       "    <\/tr>\n",
       "  <\/thead>\n",
       "  <tbody>\n",
       "    <tr>\n",
       "      <th>MPG<\/th>\n",
       "      <td>314.0<\/td>\n",
       "      <td>23.310510<\/td>\n",
       "      <td>7.728652<\/td>\n",
       "      <td>10.0<\/td>\n",
       "      <td>17.00<\/td>\n",
       "      <td>22.0<\/td>\n",
       "      <td>28.95<\/td>\n",
       "      <td>46.6<\/td>\n",
       "    <\/tr>\n",
       "    <tr>\n",
       "      <th>Cylinders<\/th>\n",
       "      <td>314.0<\/td>\n",
       "      <td>5.477707<\/td>\n",
       "      <td>1.699788<\/td>\n",
       "      <td>3.0<\/td>\n",
       "      <td>4.00<\/td>\n",
       "      <td>4.0<\/td>\n",
       "      <td>8.00<\/td>\n",
       "      <td>8.0<\/td>\n",
       "    <\/tr>\n",
       "    <tr>\n",
       "      <th>Displacement<\/th>\n",
       "      <td>314.0<\/td>\n",
       "      <td>195.318471<\/td>\n",
       "      <td>104.331589<\/td>\n",
       "      <td>68.0<\/td>\n",
       "      <td>105.50<\/td>\n",
       "      <td>151.0<\/td>\n",
       "      <td>265.75<\/td>\n",
       "      <td>455.0<\/td>\n",
       "    <\/tr>\n",
       "    <tr>\n",
       "      <th>Horsepower<\/th>\n",
       "      <td>314.0<\/td>\n",
       "      <td>104.869427<\/td>\n",
       "      <td>38.096214<\/td>\n",
       "      <td>46.0<\/td>\n",
       "      <td>76.25<\/td>\n",
       "      <td>94.5<\/td>\n",
       "      <td>128.00<\/td>\n",
       "      <td>225.0<\/td>\n",
       "    <\/tr>\n",
       "    <tr>\n",
       "      <th>Weight<\/th>\n",
       "      <td>314.0<\/td>\n",
       "      <td>2990.251592<\/td>\n",
       "      <td>843.898596<\/td>\n",
       "      <td>1649.0<\/td>\n",
       "      <td>2256.50<\/td>\n",
       "      <td>2822.5<\/td>\n",
       "      <td>3608.00<\/td>\n",
       "      <td>5140.0<\/td>\n",
       "    <\/tr>\n",
       "    <tr>\n",
       "      <th>Acceleration<\/th>\n",
       "      <td>314.0<\/td>\n",
       "      <td>15.559236<\/td>\n",
       "      <td>2.789230<\/td>\n",
       "      <td>8.0<\/td>\n",
       "      <td>13.80<\/td>\n",
       "      <td>15.5<\/td>\n",
       "      <td>17.20<\/td>\n",
       "      <td>24.8<\/td>\n",
       "    <\/tr>\n",
       "    <tr>\n",
       "      <th>Model Year<\/th>\n",
       "      <td>314.0<\/td>\n",
       "      <td>75.898089<\/td>\n",
       "      <td>3.675642<\/td>\n",
       "      <td>70.0<\/td>\n",
       "      <td>73.00<\/td>\n",
       "      <td>76.0<\/td>\n",
       "      <td>79.00<\/td>\n",
       "      <td>82.0<\/td>\n",
       "    <\/tr>\n",
       "    <tr>\n",
       "      <th>Europe<\/th>\n",
       "      <td>314.0<\/td>\n",
       "      <td>0.178344<\/td>\n",
       "      <td>0.383413<\/td>\n",
       "      <td>0.0<\/td>\n",
       "      <td>0.00<\/td>\n",
       "      <td>0.0<\/td>\n",
       "      <td>0.00<\/td>\n",
       "      <td>1.0<\/td>\n",
       "    <\/tr>\n",
       "    <tr>\n",
       "      <th>Japan<\/th>\n",
       "      <td>314.0<\/td>\n",
       "      <td>0.197452<\/td>\n",
       "      <td>0.398712<\/td>\n",
       "      <td>0.0<\/td>\n",
       "      <td>0.00<\/td>\n",
       "      <td>0.0<\/td>\n",
       "      <td>0.00<\/td>\n",
       "      <td>1.0<\/td>\n",
       "    <\/tr>\n",
       "    <tr>\n",
       "      <th>USA<\/th>\n",
       "      <td>314.0<\/td>\n",
       "      <td>0.624204<\/td>\n",
       "      <td>0.485101<\/td>\n",
       "      <td>0.0<\/td>\n",
       "      <td>0.00<\/td>\n",
       "      <td>1.0<\/td>\n",
       "      <td>1.00<\/td>\n",
       "      <td>1.0<\/td>\n",
       "    <\/tr>\n",
       "  <\/tbody>\n",
       "<\/table>\n",
       "<\/div>"
      ]
     },
     "metadata":{
      
     },
     "output_type":"display_data"
    }
   ],
   "metadata":{
    "datalore":{
     "node_id":"hM50UFvEm4ESljjBFat55U",
     "type":"CODE",
     "hide_input_from_viewers":true,
     "hide_output_from_viewers":true
    }
   }
  },
  {
   "cell_type":"code",
   "source":[
    "train_features = train_dataset.copy()\n",
    "test_features = test_dataset.copy()\n",
    "\n",
    "train_labels = train_features.pop('MPG')\n",
    "test_labels = test_features.pop('MPG')"
   ],
   "execution_count":30,
   "outputs":[
    
   ],
   "metadata":{
    "datalore":{
     "node_id":"k7oLqiHTNaO3yqdUqUqot1",
     "type":"CODE",
     "hide_input_from_viewers":true,
     "hide_output_from_viewers":true
    }
   }
  },
  {
   "cell_type":"code",
   "source":[
    "train_dataset.describe().transpose()[['mean','std']]"
   ],
   "execution_count":16,
   "outputs":[
    {
     "data":{
      "text\/html":[
       "<div>\n",
       "<style scoped>\n",
       "    .dataframe tbody tr th:only-of-type {\n",
       "        vertical-align: middle;\n",
       "    }\n",
       "\n",
       "    .dataframe tbody tr th {\n",
       "        vertical-align: top;\n",
       "    }\n",
       "\n",
       "    .dataframe thead th {\n",
       "        text-align: right;\n",
       "    }\n",
       "<\/style>\n",
       "<table border=\"1\" class=\"dataframe\">\n",
       "  <thead>\n",
       "    <tr style=\"text-align: right;\">\n",
       "      <th><\/th>\n",
       "      <th>mean<\/th>\n",
       "      <th>std<\/th>\n",
       "    <\/tr>\n",
       "  <\/thead>\n",
       "  <tbody>\n",
       "    <tr>\n",
       "      <th>MPG<\/th>\n",
       "      <td>23.310510<\/td>\n",
       "      <td>7.728652<\/td>\n",
       "    <\/tr>\n",
       "    <tr>\n",
       "      <th>Cylinders<\/th>\n",
       "      <td>5.477707<\/td>\n",
       "      <td>1.699788<\/td>\n",
       "    <\/tr>\n",
       "    <tr>\n",
       "      <th>Displacement<\/th>\n",
       "      <td>195.318471<\/td>\n",
       "      <td>104.331589<\/td>\n",
       "    <\/tr>\n",
       "    <tr>\n",
       "      <th>Horsepower<\/th>\n",
       "      <td>104.869427<\/td>\n",
       "      <td>38.096214<\/td>\n",
       "    <\/tr>\n",
       "    <tr>\n",
       "      <th>Weight<\/th>\n",
       "      <td>2990.251592<\/td>\n",
       "      <td>843.898596<\/td>\n",
       "    <\/tr>\n",
       "    <tr>\n",
       "      <th>Acceleration<\/th>\n",
       "      <td>15.559236<\/td>\n",
       "      <td>2.789230<\/td>\n",
       "    <\/tr>\n",
       "    <tr>\n",
       "      <th>Model Year<\/th>\n",
       "      <td>75.898089<\/td>\n",
       "      <td>3.675642<\/td>\n",
       "    <\/tr>\n",
       "    <tr>\n",
       "      <th>Europe<\/th>\n",
       "      <td>0.178344<\/td>\n",
       "      <td>0.383413<\/td>\n",
       "    <\/tr>\n",
       "    <tr>\n",
       "      <th>Japan<\/th>\n",
       "      <td>0.197452<\/td>\n",
       "      <td>0.398712<\/td>\n",
       "    <\/tr>\n",
       "    <tr>\n",
       "      <th>USA<\/th>\n",
       "      <td>0.624204<\/td>\n",
       "      <td>0.485101<\/td>\n",
       "    <\/tr>\n",
       "  <\/tbody>\n",
       "<\/table>\n",
       "<\/div>"
      ]
     },
     "metadata":{
      
     },
     "output_type":"display_data"
    }
   ],
   "metadata":{
    "datalore":{
     "node_id":"TI7VpEnNUsHWCQMPIDxlOI",
     "type":"CODE",
     "hide_input_from_viewers":true,
     "hide_output_from_viewers":true
    }
   }
  },
  {
   "cell_type":"code",
   "source":[
    "#warstwa normalizacji\n",
    "normalizer = tf.keras.layers.Normalization(axis=-1)"
   ],
   "execution_count":17,
   "outputs":[
    
   ],
   "metadata":{
    "datalore":{
     "node_id":"NdkrQJa2qPFDnGxN2iKGKK",
     "type":"CODE",
     "hide_input_from_viewers":true,
     "hide_output_from_viewers":true
    }
   }
  },
  {
   "cell_type":"code",
   "source":[
    "normalizer.adapt(np.array(train_features))"
   ],
   "execution_count":18,
   "outputs":[
    
   ],
   "metadata":{
    "datalore":{
     "node_id":"IT2eaus425fwXmfQJXOppR",
     "type":"CODE",
     "hide_input_from_viewers":true,
     "hide_output_from_viewers":true
    }
   }
  },
  {
   "cell_type":"code",
   "source":[
    "print(normalizer.mean.numpy())"
   ],
   "execution_count":19,
   "outputs":[
    {
     "name":"stdout",
     "text":[
      "[[   5.478  195.318  104.869 2990.252   15.559   75.898    0.178    0.197\n",
      "     0.624]]\n"
     ],
     "output_type":"stream"
    }
   ],
   "metadata":{
    "datalore":{
     "node_id":"aPzqh214zNXBSMxlgJyeqf",
     "type":"CODE",
     "hide_input_from_viewers":true,
     "hide_output_from_viewers":true
    }
   }
  },
  {
   "cell_type":"code",
   "source":[
    "first = np.array(train_features[:1])\n",
    "\n",
    "with np.printoptions(precision=2,suppress=True):\n",
    "    print(f'pierwsza próbka: {first}')\n",
    "    print(f'próbka po normalizacji: {normalizer(first).numpy()}')"
   ],
   "execution_count":20,
   "outputs":[
    {
     "name":"stdout",
     "text":[
      "pierwsza próbka: [[   4.    90.    75.  2125.    14.5   74.     0.     0.     1. ]]\n",
      "próbka po normalizacji: [[-0.87 -1.01 -0.79 -1.03 -0.38 -0.52 -0.47 -0.5   0.78]]\n"
     ],
     "output_type":"stream"
    }
   ],
   "metadata":{
    "datalore":{
     "node_id":"jP1BGE32zx1AbGkrVhuaEz",
     "type":"CODE",
     "hide_input_from_viewers":true,
     "hide_output_from_viewers":true
    }
   }
  },
  {
   "cell_type":"code",
   "source":[
    "#Regresja liniowa z jedną zmienną\n",
    "#y = mx +b\n",
    "\n",
    "horsepower = np.array(train_features['Horsepower'])\n",
    "\n",
    "horsepower_normalizer = layers.Normalization(input_shape=[1,],axis=None)\n",
    "horsepower_normalizer.adapt(horsepower)"
   ],
   "execution_count":21,
   "outputs":[
    
   ],
   "metadata":{
    "datalore":{
     "node_id":"ba4tCvQVgAwP4C5Hpelpqy",
     "type":"CODE",
     "hide_input_from_viewers":true,
     "hide_output_from_viewers":true
    }
   }
  },
  {
   "cell_type":"code",
   "source":[
    "horsepower_model = tf.keras.Sequential([\n",
    "    horsepower_normalizer,\n",
    "    layers.Dense(units=1)\n",
    "])\n",
    "\n",
    "horsepower_model.summary()"
   ],
   "execution_count":22,
   "outputs":[
    {
     "name":"stdout",
     "text":[
      "Model: \"sequential\"\n",
      "_________________________________________________________________\n",
      " Layer (type)                Output Shape              Param #   \n",
      "=================================================================\n",
      " normalization_1 (Normalizat  (None, 1)                3         \n",
      " ion)                                                            \n",
      "                                                                 \n",
      " dense (Dense)               (None, 1)                 2         \n",
      "                                                                 \n",
      "=================================================================\n",
      "Total params: 5\n",
      "Trainable params: 2\n",
      "Non-trainable params: 3\n",
      "_________________________________________________________________\n"
     ],
     "output_type":"stream"
    }
   ],
   "metadata":{
    "datalore":{
     "node_id":"9s2ZBILcEAcLhB5zTvcVYg",
     "type":"CODE",
     "hide_input_from_viewers":true,
     "hide_output_from_viewers":true
    }
   }
  },
  {
   "cell_type":"code",
   "source":[
    "horsepower_model.predict(horsepower[:10])"
   ],
   "execution_count":23,
   "outputs":[
    {
     "name":"stdout",
     "text":[
      "\r1\/1 [==============================] - ETA: 0s\b\b\b\b\b\b\b\b\b\b\b\b\b\b\b\b\b\b\b\b\b\b\b\b\b\b\b\b\b\b\b\b\b\b\b\b\b\b\b\b\b\b\b\b\b\b\r1\/1 [==============================] - 0s 178ms\/step\n"
     ],
     "output_type":"stream"
    },
    {
     "data":{
      "text\/html":[
       "<pre>array([[-0.478],\n",
       "       [-0.27 ],\n",
       "       [ 0.883],\n",
       "       [-0.67 ],\n",
       "       [-0.606],\n",
       "       [-0.238],\n",
       "       [-0.718],\n",
       "       [-0.606],\n",
       "       [-0.158],\n",
       "       [-0.27 ]], dtype=float32)<\/pre>"
      ]
     },
     "metadata":{
      
     },
     "output_type":"display_data"
    }
   ],
   "metadata":{
    "datalore":{
     "node_id":"GamCumvzDgO31QHLLISW9D",
     "type":"CODE",
     "hide_input_from_viewers":true,
     "hide_output_from_viewers":true
    }
   }
  },
  {
   "cell_type":"code",
   "source":[
    "horsepower_model.compile(\n",
    "    optimizer=tf.optimizers.Adam(learning_rate=0.1),\n",
    "    loss = 'mean_absolute_error'\n",
    ")"
   ],
   "execution_count":24,
   "outputs":[
    
   ],
   "metadata":{
    "datalore":{
     "node_id":"o57LmupWyBLMuZl4oBERfr",
     "type":"CODE",
     "hide_input_from_viewers":true,
     "hide_output_from_viewers":true
    }
   }
  },
  {
   "cell_type":"code",
   "source":[
    "%%time\n",
    "history = horsepower_model.fit(\n",
    "    train_features['Horsepower'],\n",
    "    train_labels,\n",
    "    epochs=100,\n",
    "    verbose=0,\n",
    "    validation_split=0.2\n",
    ")"
   ],
   "execution_count":25,
   "outputs":[
    {
     "name":"stdout",
     "text":[
      "CPU times: user 4.2 s, sys: 194 ms, total: 4.4 s\n",
      "Wall time: 4.19 s\n"
     ],
     "output_type":"stream"
    }
   ],
   "metadata":{
    "datalore":{
     "node_id":"69W5JzdIpNYfROttgzcV2q",
     "type":"CODE",
     "hide_input_from_viewers":true,
     "hide_output_from_viewers":true
    }
   }
  },
  {
   "cell_type":"code",
   "source":[
    "hist = pd.DataFrame(history.history)\n",
    "hist['epoch'] = history.epoch\n",
    "hist.tail()"
   ],
   "execution_count":26,
   "outputs":[
    {
     "data":{
      "text\/html":[
       "<div>\n",
       "<style scoped>\n",
       "    .dataframe tbody tr th:only-of-type {\n",
       "        vertical-align: middle;\n",
       "    }\n",
       "\n",
       "    .dataframe tbody tr th {\n",
       "        vertical-align: top;\n",
       "    }\n",
       "\n",
       "    .dataframe thead th {\n",
       "        text-align: right;\n",
       "    }\n",
       "<\/style>\n",
       "<table border=\"1\" class=\"dataframe\">\n",
       "  <thead>\n",
       "    <tr style=\"text-align: right;\">\n",
       "      <th><\/th>\n",
       "      <th>loss<\/th>\n",
       "      <th>val_loss<\/th>\n",
       "      <th>epoch<\/th>\n",
       "    <\/tr>\n",
       "  <\/thead>\n",
       "  <tbody>\n",
       "    <tr>\n",
       "      <th>95<\/th>\n",
       "      <td>3.803324<\/td>\n",
       "      <td>4.191365<\/td>\n",
       "      <td>95<\/td>\n",
       "    <\/tr>\n",
       "    <tr>\n",
       "      <th>96<\/th>\n",
       "      <td>3.804793<\/td>\n",
       "      <td>4.207232<\/td>\n",
       "      <td>96<\/td>\n",
       "    <\/tr>\n",
       "    <tr>\n",
       "      <th>97<\/th>\n",
       "      <td>3.804524<\/td>\n",
       "      <td>4.182885<\/td>\n",
       "      <td>97<\/td>\n",
       "    <\/tr>\n",
       "    <tr>\n",
       "      <th>98<\/th>\n",
       "      <td>3.803083<\/td>\n",
       "      <td>4.186983<\/td>\n",
       "      <td>98<\/td>\n",
       "    <\/tr>\n",
       "    <tr>\n",
       "      <th>99<\/th>\n",
       "      <td>3.802757<\/td>\n",
       "      <td>4.200023<\/td>\n",
       "      <td>99<\/td>\n",
       "    <\/tr>\n",
       "  <\/tbody>\n",
       "<\/table>\n",
       "<\/div>"
      ]
     },
     "metadata":{
      
     },
     "output_type":"display_data"
    }
   ],
   "metadata":{
    "datalore":{
     "node_id":"YiTVVVVNrif8Ejuu2NOowN",
     "type":"CODE",
     "hide_input_from_viewers":true,
     "hide_output_from_viewers":true
    }
   }
  },
  {
   "cell_type":"code",
   "source":[
    "def plot_loss(history):\n",
    "    plt.plot(history.history['loss'],label='loss')\n",
    "    plt.plot(history.history['val_loss'],label='val_loss')\n",
    "    plt.ylim([0,10])\n",
    "    plt.xlabel('Epoch')\n",
    "    plt.ylabel('Error[MPG]')\n",
    "    plt.legend()\n",
    "    plt.grid(True)\n",
    "    "
   ],
   "execution_count":27,
   "outputs":[
    
   ],
   "metadata":{
    "datalore":{
     "node_id":"HddvllbeEXYomVHSUe5rgr",
     "type":"CODE",
     "hide_input_from_viewers":true,
     "hide_output_from_viewers":true
    }
   }
  },
  {
   "cell_type":"code",
   "source":[
    "plot_loss(history)"
   ],
   "execution_count":28,
   "outputs":[
    {
     "data":{
      "image\/png":"[encoded data removed]"
     },
     "metadata":{
      "image\/png":{
       
      }
     },
     "output_type":"display_data"
    }
   ],
   "metadata":{
    "datalore":{
     "node_id":"Um5eOVSXHXBTITSz0mjso9",
     "type":"CODE",
     "hide_input_from_viewers":true,
     "hide_output_from_viewers":true
    }
   }
  },
  {
   "cell_type":"code",
   "source":[
    "test_results = {}\n",
    "test_results['horsepower_model'] = horsepower_model.evaluate(\n",
    "    test_features['Horsepower'],\n",
    "    test_labels,verbose=0\n",
    ")"
   ],
   "execution_count":32,
   "outputs":[
    
   ],
   "metadata":{
    "datalore":{
     "node_id":"vK5XUrT9xGJ2vYQFjnuajY",
     "type":"CODE",
     "hide_input_from_viewers":true,
     "hide_output_from_viewers":true
    }
   }
  },
  {
   "cell_type":"code",
   "source":[
    "x = tf.linspace(0.0,250,251)\n",
    "y = horsepower_model.predict(x)"
   ],
   "execution_count":33,
   "outputs":[
    {
     "name":"stdout",
     "text":[
      "\r1\/8 [==>...........................] - ETA: 0s\b\b\b\b\b\b\b\b\b\b\b\b\b\b\b\b\b\b\b\b\b\b\b\b\b\b\b\b\b\b\b\b\b\b\b\b\b\b\b\b\b\b\b\b\b\b\r8\/8 [==============================] - 0s 1ms\/step\n"
     ],
     "output_type":"stream"
    }
   ],
   "metadata":{
    "datalore":{
     "node_id":"7kb6mSrRN6Hs53QmG58p2m",
     "type":"CODE",
     "hide_input_from_viewers":true,
     "hide_output_from_viewers":true
    }
   }
  },
  {
   "cell_type":"code",
   "source":[
    "def plot_horsepower(x,y):\n",
    "    plt.scatter(train_features['Horsepower'],train_labels,label='Data')\n",
    "    plt.plot(x,y,color='k',label='Predictions')\n",
    "    plt.xlabel('Horsepower')\n",
    "    plt.ylabel('MPG')\n",
    "    plt.legend()"
   ],
   "execution_count":34,
   "outputs":[
    
   ],
   "metadata":{
    "datalore":{
     "node_id":"Y8MIcA08Ik5ck8EHrRiySk",
     "type":"CODE",
     "hide_input_from_viewers":true,
     "hide_output_from_viewers":true
    }
   }
  },
  {
   "cell_type":"code",
   "source":[
    "plot_horsepower(x,y)"
   ],
   "execution_count":35,
   "outputs":[
    {
     "data":{
      "image\/png":"[encoded data removed]"
     },
     "metadata":{
      "image\/png":{
       
      }
     },
     "output_type":"display_data"
    }
   ],
   "metadata":{
    "datalore":{
     "node_id":"XUG1iIAgfMIF6kYQ0PH0GH",
     "type":"CODE",
     "hide_input_from_viewers":true,
     "hide_output_from_viewers":true
    }
   }
  },
  {
   "cell_type":"code",
   "source":[
    "#regresja liniowa z wieloma danymi wejściowymi\n",
    "\n",
    "linear_model = tf.keras.Sequential([\n",
    "    normalizer,\n",
    "    layers.Dense(units=1)\n",
    "])\n",
    "\n",
    "linear_model.summary()"
   ],
   "execution_count":36,
   "outputs":[
    {
     "name":"stdout",
     "text":[
      "Model: \"sequential_1\"\n",
      "_________________________________________________________________\n",
      " Layer (type)                Output Shape              Param #   \n",
      "=================================================================\n",
      " normalization (Normalizatio  (None, 9)                19        \n",
      " n)                                                              \n",
      "                                                                 \n",
      " dense_1 (Dense)             (None, 1)                 10        \n",
      "                                                                 \n",
      "=================================================================\n",
      "Total params: 29\n",
      "Trainable params: 10\n",
      "Non-trainable params: 19\n",
      "_________________________________________________________________\n"
     ],
     "output_type":"stream"
    }
   ],
   "metadata":{
    "datalore":{
     "node_id":"33hZsfnzT7yzoLcLz7l2Pr",
     "type":"CODE",
     "hide_input_from_viewers":true,
     "hide_output_from_viewers":true
    }
   }
  },
  {
   "cell_type":"code",
   "source":[
    "linear_model.compile(\n",
    "    optimizer=tf.optimizers.Adam(learning_rate=0.1),\n",
    "    loss = 'mean_absolute_error'\n",
    ")"
   ],
   "execution_count":37,
   "outputs":[
    
   ],
   "metadata":{
    "datalore":{
     "node_id":"7Wr7pi2D1V77t2qont68Db",
     "type":"CODE",
     "hide_input_from_viewers":true,
     "hide_output_from_viewers":true
    }
   }
  },
  {
   "cell_type":"code",
   "source":[
    "%%time\n",
    "history = linear_model.fit(\n",
    "    train_features,\n",
    "    train_labels,\n",
    "    epochs=100,\n",
    "    verbose=0,\n",
    "    validation_split=0.2\n",
    ")"
   ],
   "execution_count":38,
   "outputs":[
    {
     "name":"stdout",
     "text":[
      "CPU times: user 4.38 s, sys: 138 ms, total: 4.51 s\n",
      "Wall time: 4.27 s\n"
     ],
     "output_type":"stream"
    }
   ],
   "metadata":{
    "datalore":{
     "node_id":"CaN9j0gCgy8yeX9rRZpA07",
     "type":"CODE",
     "hide_input_from_viewers":true,
     "hide_output_from_viewers":true
    }
   }
  },
  {
   "cell_type":"code",
   "source":[
    "plot_loss(history)"
   ],
   "execution_count":39,
   "outputs":[
    {
     "data":{
      "image\/png":"[encoded data removed]"
     },
     "metadata":{
      "image\/png":{
       
      }
     },
     "output_type":"display_data"
    }
   ],
   "metadata":{
    "datalore":{
     "node_id":"EjjmE3gzXrsBM8GkfcfeWi",
     "type":"CODE",
     "hide_input_from_viewers":true,
     "hide_output_from_viewers":true
    }
   }
  },
  {
   "cell_type":"code",
   "source":[
    "test_results['linear_model'] = linear_model.evaluate(\n",
    "    test_features,\n",
    "    test_labels,verbose=0\n",
    ")"
   ],
   "execution_count":40,
   "outputs":[
    
   ],
   "metadata":{
    "datalore":{
     "node_id":"E1c4AhSYJk2mcezNKzguOZ",
     "type":"CODE",
     "hide_input_from_viewers":true,
     "hide_output_from_viewers":true
    }
   }
  },
  {
   "cell_type":"code",
   "source":[
    "#Regresja z głęboką siecią neuronową(DNN)\n",
    "\n",
    "def build_and_compile_model(norm):\n",
    "    model = keras.Sequential([\n",
    "        norm,\n",
    "        layers.Dense(64,activation='relu'),\n",
    "        layers.Dense(64,activation='relu'),\n",
    "        layers.Dense(1)\n",
    "\n",
    "    ])\n",
    "    model.compile(loss='mean_absolute_error', optimizer=tf.keras.optimizers.Adam(0.001))\n",
    "    return model"
   ],
   "execution_count":41,
   "outputs":[
    
   ],
   "metadata":{
    "datalore":{
     "node_id":"RbVCflSaqd6m36UXvw0CS4",
     "type":"CODE",
     "hide_input_from_viewers":true,
     "hide_output_from_viewers":true
    }
   }
  },
  {
   "cell_type":"code",
   "source":[
    "#regresja z użyciem dnn i pojedynczego wejścia\n",
    "dnn_horsepower_model = build_and_compile_model(horsepower_normalizer)"
   ],
   "execution_count":42,
   "outputs":[
    
   ],
   "metadata":{
    "datalore":{
     "node_id":"vsyEBegEDgRxUgKPsaRpkm",
     "type":"CODE",
     "hide_input_from_viewers":true,
     "hide_output_from_viewers":true
    }
   }
  },
  {
   "cell_type":"code",
   "source":[
    "dnn_horsepower_model.summary()"
   ],
   "execution_count":43,
   "outputs":[
    {
     "name":"stdout",
     "text":[
      "Model: \"sequential_2\"\n",
      "_________________________________________________________________\n",
      " Layer (type)                Output Shape              Param #   \n",
      "=================================================================\n",
      " normalization_1 (Normalizat  (None, 1)                3         \n",
      " ion)                                                            \n",
      "                                                                 \n",
      " dense_2 (Dense)             (None, 64)                128       \n",
      "                                                                 \n",
      " dense_3 (Dense)             (None, 64)                4160      \n",
      "                                                                 \n",
      " dense_4 (Dense)             (None, 1)                 65        \n",
      "                                                                 \n",
      "=================================================================\n",
      "Total params: 4,356\n",
      "Trainable params: 4,353\n",
      "Non-trainable params: 3\n",
      "_________________________________________________________________\n"
     ],
     "output_type":"stream"
    }
   ],
   "metadata":{
    "datalore":{
     "node_id":"uujCZAJY9bRn76KHScndJc",
     "type":"CODE",
     "hide_input_from_viewers":true,
     "hide_output_from_viewers":true
    }
   }
  },
  {
   "cell_type":"code",
   "source":[
    "%%time\n",
    "history = dnn_horsepower_model.fit(\n",
    "    train_features['Horsepower'],\n",
    "    train_labels,\n",
    "    epochs=100,\n",
    "    verbose=0,\n",
    "    validation_split=0.2\n",
    ")"
   ],
   "execution_count":44,
   "outputs":[
    {
     "name":"stdout",
     "text":[
      "CPU times: user 4.33 s, sys: 170 ms, total: 4.5 s\n",
      "Wall time: 4.14 s\n"
     ],
     "output_type":"stream"
    }
   ],
   "metadata":{
    "datalore":{
     "node_id":"OVJE0MZaLqYayb4rqnhVxJ",
     "type":"CODE",
     "hide_input_from_viewers":true,
     "hide_output_from_viewers":true
    }
   }
  },
  {
   "cell_type":"code",
   "source":[
    "plot_loss(history)"
   ],
   "execution_count":45,
   "outputs":[
    {
     "data":{
      "image\/png":"[encoded data removed]"
     },
     "metadata":{
      "image\/png":{
       
      }
     },
     "output_type":"display_data"
    }
   ],
   "metadata":{
    "datalore":{
     "node_id":"0DPotM6VHWh2DLdy5sv3XF",
     "type":"CODE",
     "hide_input_from_viewers":true,
     "hide_output_from_viewers":true
    }
   }
  },
  {
   "cell_type":"code",
   "source":[
    "test_results['dnn_horsepower_model'] = dnn_horsepower_model.evaluate(\n",
    "    test_features['Horsepower'],\n",
    "    test_labels,verbose=0\n",
    ")"
   ],
   "execution_count":46,
   "outputs":[
    
   ],
   "metadata":{
    "datalore":{
     "node_id":"PNPMjYAIZ67Ly6IUVWS2qM",
     "type":"CODE",
     "hide_input_from_viewers":true,
     "hide_output_from_viewers":true
    }
   }
  },
  {
   "cell_type":"code",
   "source":[
    "#regresja przy użyciu dnn i wielu danych wejściowych\n",
    "\n",
    "dnn_model = build_and_compile_model(normalizer)\n",
    "dnn_model.summary()"
   ],
   "execution_count":47,
   "outputs":[
    {
     "name":"stdout",
     "text":[
      "Model: \"sequential_3\"\n",
      "_________________________________________________________________\n",
      " Layer (type)                Output Shape              Param #   \n",
      "=================================================================\n",
      " normalization (Normalizatio  (None, 9)                19        \n",
      " n)                                                              \n",
      "                                                                 \n",
      " dense_5 (Dense)             (None, 64)                640       \n",
      "                                                                 \n",
      " dense_6 (Dense)             (None, 64)                4160      \n",
      "                                                                 \n",
      " dense_7 (Dense)             (None, 1)                 65        \n",
      "                                                                 \n",
      "=================================================================\n",
      "Total params: 4,884\n",
      "Trainable params: 4,865\n",
      "Non-trainable params: 19\n",
      "_________________________________________________________________\n"
     ],
     "output_type":"stream"
    }
   ],
   "metadata":{
    "datalore":{
     "node_id":"HeQpMtdL76VDZJhf1mIVo2",
     "type":"CODE",
     "hide_input_from_viewers":true,
     "hide_output_from_viewers":true
    }
   }
  },
  {
   "cell_type":"code",
   "source":[
    "%%time\n",
    "history = dnn_model.fit(\n",
    "    train_features,\n",
    "    train_labels,\n",
    "    epochs=100,\n",
    "    verbose=0,\n",
    "    validation_split=0.2\n",
    ")"
   ],
   "execution_count":48,
   "outputs":[
    {
     "name":"stdout",
     "text":[
      "CPU times: user 4.38 s, sys: 194 ms, total: 4.58 s\n",
      "Wall time: 4.24 s\n"
     ],
     "output_type":"stream"
    }
   ],
   "metadata":{
    "datalore":{
     "node_id":"MTibjL7BhgucrEKLvehYac",
     "type":"CODE",
     "hide_input_from_viewers":true,
     "hide_output_from_viewers":true
    }
   }
  },
  {
   "cell_type":"code",
   "source":[
    "plot_loss(history)"
   ],
   "execution_count":49,
   "outputs":[
    {
     "data":{
      "image\/png":"[encoded data removed]"
     },
     "metadata":{
      "image\/png":{
       
      }
     },
     "output_type":"display_data"
    }
   ],
   "metadata":{
    "datalore":{
     "node_id":"hx1LBLvHfdRWLYOqIUmMNv",
     "type":"CODE",
     "hide_input_from_viewers":true,
     "hide_output_from_viewers":true
    }
   }
  },
  {
   "cell_type":"code",
   "source":[
    "test_results['dnn_model'] = dnn_model.evaluate(\n",
    "    test_features,\n",
    "    test_labels,verbose=0\n",
    ")"
   ],
   "execution_count":50,
   "outputs":[
    
   ],
   "metadata":{
    "datalore":{
     "node_id":"RYGFUvHRHWHlMtK4GxazGh",
     "type":"CODE",
     "hide_input_from_viewers":true,
     "hide_output_from_viewers":true
    }
   }
  },
  {
   "cell_type":"code",
   "source":[
    "pd.DataFrame(test_results,index=['Mean absolute Error[MPG']).T"
   ],
   "execution_count":52,
   "outputs":[
    {
     "data":{
      "text\/html":[
       "<div>\n",
       "<style scoped>\n",
       "    .dataframe tbody tr th:only-of-type {\n",
       "        vertical-align: middle;\n",
       "    }\n",
       "\n",
       "    .dataframe tbody tr th {\n",
       "        vertical-align: top;\n",
       "    }\n",
       "\n",
       "    .dataframe thead th {\n",
       "        text-align: right;\n",
       "    }\n",
       "<\/style>\n",
       "<table border=\"1\" class=\"dataframe\">\n",
       "  <thead>\n",
       "    <tr style=\"text-align: right;\">\n",
       "      <th><\/th>\n",
       "      <th>Mean absolute Error[MPG<\/th>\n",
       "    <\/tr>\n",
       "  <\/thead>\n",
       "  <tbody>\n",
       "    <tr>\n",
       "      <th>horsepower_model<\/th>\n",
       "      <td>3.646818<\/td>\n",
       "    <\/tr>\n",
       "    <tr>\n",
       "      <th>linear_model<\/th>\n",
       "      <td>2.461914<\/td>\n",
       "    <\/tr>\n",
       "    <tr>\n",
       "      <th>dnn_horsepower_model<\/th>\n",
       "      <td>2.923215<\/td>\n",
       "    <\/tr>\n",
       "    <tr>\n",
       "      <th>dnn_model<\/th>\n",
       "      <td>1.639668<\/td>\n",
       "    <\/tr>\n",
       "  <\/tbody>\n",
       "<\/table>\n",
       "<\/div>"
      ]
     },
     "metadata":{
      
     },
     "output_type":"display_data"
    }
   ],
   "metadata":{
    "datalore":{
     "node_id":"60FSyjpKbHmxKqEVSyuKeq",
     "type":"CODE",
     "hide_input_from_viewers":true,
     "hide_output_from_viewers":true
    }
   }
  }
 ],
 "metadata":{
  "kernelspec":{
   "display_name":"Python",
   "language":"python",
   "name":"python"
  },
  "datalore":{
   "computation_mode":"JUPYTER",
   "package_manager":"pip",
   "base_environment":"default",
   "packages":[
    
   ],
   "report_row_ids":[
    
   ],
   "version":3
  }
 },
 "nbformat":4,
 "nbformat_minor":4
}